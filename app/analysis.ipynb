{
 "cells": [
  {
   "cell_type": "code",
   "execution_count": null,
   "metadata": {},
   "outputs": [],
   "source": [
    "import pandas as pd\n",
    "import subscription as sub\n",
    "from bokeh.io import curdoc\n",
    "\n",
    "data= sub()\n",
    "\n",
    "tweets = pd.DataFrame()\n",
    "#tweets['text'] = list(map(lambda tweet: tweet['data']['text'], tweets_data))\n",
    "#tweets['matching_rule_id'] = list(map(lambda tweet: tweet['matching_rules'][0]['id'], tweets_data))\n",
    "\n",
    "# sys.path.append(os.getcwd())\n",
    "\n",
    "# TWEET_FILTER = publish.rules\n",
    "# GCP_PROJECT_NAME = settings.GCP_PROJECT_NAME\n",
    "# PUBSUB_SUBSCRIPTION_NAME = settings.PUBSUB_SUBSCRIPTION_DASHBOARD_NAME\n",
    "\n",
    "source = ColumnDataSource(tweets)\n",
    "\n",
    "# create a new plot with a a datetime axis type\n",
    "p = Figure(width=1080, height=600, x_axis_type='datetime')\n",
    "\n",
    "# p.circle(source=source, x='x', y='y', legend=TWEET_FILTER, color='red', size=5)\n",
    "# p.line(source=source, x='x', y='y', legend=TWEET_FILTER, color='red', line_width=2)\n",
    "\n",
    "# p.title.text = 'Tweet Count'\n",
    "# p.grid.grid_line_alpha = 0\n",
    "# p.xaxis.axis_label = 'Time'\n",
    "# p.yaxis.axis_label = 'Tweets'\n",
    "# p.ygrid.band_fill_color = 'olive'\n",
    "# p.ygrid.band_fill_alpha = 0.1\n",
    "# p.xaxis.formatter = DatetimeTickFormatter(seconds=['%H:%M:%S'],\n",
    "#                                           minutes=['%H:%M:%S'],\n",
    "#                                           minsec=['%H:%M:%S'],\n",
    "#                                           hours=['%H:%M:%S'])\n",
    "\n",
    "# def update_data():\n",
    "#     message = receive_tweets(project=GCP_PROJECT_NAME,\n",
    "#                              subscription_name=PUBSUB_SUBSCRIPTION_NAME,\n",
    "#                              tweet_filter=TWEET_FILTER)[0]\n",
    "\n",
    "#     tweet_time = pandas.to_datetime(message['timestamp'], unit='s')\n",
    "#     print('Tweet Time: ', tweet_time)\n",
    "#     tweets_count = int(str(message['data']).strip().split(':')[1])\n",
    "\n",
    "#     new_data = dict(x=[tweet_time], y=[tweets_count])\n",
    "#     # After 10 seconds rollover the data\n",
    "#     source.stream(new_data=new_data, rollover=10)\n",
    "\n",
    "# curdoc().add_root(p)\n",
    "# # Update the data every 10seconds (1000*10 ms)\n",
    "# curdoc().add_periodic_callback(callback=update_data, period_milliseconds=1000 * 10)"
   ]
  }
 ],
 "metadata": {
  "interpreter": {
   "hash": "67e34e787b9b84882be9b3674b59ed1f78c0082acfe4f773ee55db7ecb7ada2c"
  },
  "kernelspec": {
   "display_name": "Python 3.8.10 ('env': venv)",
   "language": "python",
   "name": "python3"
  },
  "language_info": {
   "name": "python",
   "version": "3.8.10"
  },
  "orig_nbformat": 4
 },
 "nbformat": 4,
 "nbformat_minor": 2
}
